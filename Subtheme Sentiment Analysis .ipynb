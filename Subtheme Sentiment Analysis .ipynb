{
 "cells": [
  {
   "cell_type": "markdown",
   "id": "5796aeb1",
   "metadata": {},
   "source": [
    "# Import Module"
   ]
  },
  {
   "cell_type": "code",
   "execution_count": 25,
   "id": "21c527be",
   "metadata": {},
   "outputs": [],
   "source": [
    "import pandas as pd\n",
    "import numpy as np\n",
    "import matplotlib.pyplot as plt\n",
    "import seaborn as sns\n",
    "import re\n",
    "import string\n",
    "import nltk\n",
    "from nltk.corpus import stopwords\n",
    "from nltk.tokenize import word_tokenize, sent_tokenize\n",
    "from sklearn.feature_extraction.text import CountVectorizer\n",
    "from sklearn.naive_bayes import MultinomialNB\n",
    "from sklearn.model_selection import train_test_split\n",
    "import warnings\n",
    "%matplotlib inline\n",
    "\n",
    "warnings.filterwarnings('ignore')"
   ]
  },
  {
   "cell_type": "markdown",
   "id": "6a4cd297",
   "metadata": {},
   "source": [
    "# Loading the Dataset"
   ]
  },
  {
   "cell_type": "code",
   "execution_count": 20,
   "id": "95f759e9",
   "metadata": {},
   "outputs": [
    {
     "data": {
      "text/html": [
       "<div>\n",
       "<style scoped>\n",
       "    .dataframe tbody tr th:only-of-type {\n",
       "        vertical-align: middle;\n",
       "    }\n",
       "\n",
       "    .dataframe tbody tr th {\n",
       "        vertical-align: top;\n",
       "    }\n",
       "\n",
       "    .dataframe thead th {\n",
       "        text-align: right;\n",
       "    }\n",
       "</style>\n",
       "<table border=\"1\" class=\"dataframe\">\n",
       "  <thead>\n",
       "    <tr style=\"text-align: right;\">\n",
       "      <th></th>\n",
       "      <th>Tires where delivered to the garage of my choice,the garage notified me when they had been delivered. A day and time was arranged with the garage and I went and had them fitted,a Hassel free experience.</th>\n",
       "      <th>garage service positive</th>\n",
       "      <th>ease of booking positive</th>\n",
       "      <th>Unnamed: 3</th>\n",
       "      <th>Unnamed: 4</th>\n",
       "      <th>Unnamed: 5</th>\n",
       "      <th>Unnamed: 6</th>\n",
       "      <th>Unnamed: 7</th>\n",
       "      <th>Unnamed: 8</th>\n",
       "      <th>Unnamed: 9</th>\n",
       "      <th>Unnamed: 10</th>\n",
       "      <th>Unnamed: 11</th>\n",
       "      <th>Unnamed: 12</th>\n",
       "      <th>Unnamed: 13</th>\n",
       "      <th>Unnamed: 14</th>\n",
       "    </tr>\n",
       "  </thead>\n",
       "  <tbody>\n",
       "    <tr>\n",
       "      <th>0</th>\n",
       "      <td>Easy Tyre Selection Process, Competitive Prici...</td>\n",
       "      <td>garage service positive</td>\n",
       "      <td>value for money positive</td>\n",
       "      <td>NaN</td>\n",
       "      <td>NaN</td>\n",
       "      <td>NaN</td>\n",
       "      <td>NaN</td>\n",
       "      <td>NaN</td>\n",
       "      <td>NaN</td>\n",
       "      <td>NaN</td>\n",
       "      <td>NaN</td>\n",
       "      <td>NaN</td>\n",
       "      <td>NaN</td>\n",
       "      <td>NaN</td>\n",
       "      <td>NaN</td>\n",
       "    </tr>\n",
       "    <tr>\n",
       "      <th>1</th>\n",
       "      <td>Very easy to use and good value for money.</td>\n",
       "      <td>value for money positive</td>\n",
       "      <td>NaN</td>\n",
       "      <td>NaN</td>\n",
       "      <td>NaN</td>\n",
       "      <td>NaN</td>\n",
       "      <td>NaN</td>\n",
       "      <td>NaN</td>\n",
       "      <td>NaN</td>\n",
       "      <td>NaN</td>\n",
       "      <td>NaN</td>\n",
       "      <td>NaN</td>\n",
       "      <td>NaN</td>\n",
       "      <td>NaN</td>\n",
       "      <td>NaN</td>\n",
       "    </tr>\n",
       "    <tr>\n",
       "      <th>2</th>\n",
       "      <td>Really easy and convenient to arrange</td>\n",
       "      <td>ease of booking positive</td>\n",
       "      <td>NaN</td>\n",
       "      <td>NaN</td>\n",
       "      <td>NaN</td>\n",
       "      <td>NaN</td>\n",
       "      <td>NaN</td>\n",
       "      <td>NaN</td>\n",
       "      <td>NaN</td>\n",
       "      <td>NaN</td>\n",
       "      <td>NaN</td>\n",
       "      <td>NaN</td>\n",
       "      <td>NaN</td>\n",
       "      <td>NaN</td>\n",
       "      <td>NaN</td>\n",
       "    </tr>\n",
       "    <tr>\n",
       "      <th>3</th>\n",
       "      <td>It was so easy to select tyre sizes and arrang...</td>\n",
       "      <td>location positive</td>\n",
       "      <td>value for money positive</td>\n",
       "      <td>ease of booking positive</td>\n",
       "      <td>NaN</td>\n",
       "      <td>NaN</td>\n",
       "      <td>NaN</td>\n",
       "      <td>NaN</td>\n",
       "      <td>NaN</td>\n",
       "      <td>NaN</td>\n",
       "      <td>NaN</td>\n",
       "      <td>NaN</td>\n",
       "      <td>NaN</td>\n",
       "      <td>NaN</td>\n",
       "      <td>NaN</td>\n",
       "    </tr>\n",
       "    <tr>\n",
       "      <th>4</th>\n",
       "      <td>service was excellent. Only slight downside wa...</td>\n",
       "      <td>length of fitting positive</td>\n",
       "      <td>ease of booking positive</td>\n",
       "      <td>ease of booking negative</td>\n",
       "      <td>NaN</td>\n",
       "      <td>NaN</td>\n",
       "      <td>NaN</td>\n",
       "      <td>NaN</td>\n",
       "      <td>NaN</td>\n",
       "      <td>NaN</td>\n",
       "      <td>NaN</td>\n",
       "      <td>NaN</td>\n",
       "      <td>NaN</td>\n",
       "      <td>NaN</td>\n",
       "      <td>NaN</td>\n",
       "    </tr>\n",
       "  </tbody>\n",
       "</table>\n",
       "</div>"
      ],
      "text/plain": [
       "  Tires where delivered to the garage of my choice,the garage notified me when they had been delivered. A day and time was arranged with the garage and I went and had them fitted,a Hassel free experience.  \\\n",
       "0  Easy Tyre Selection Process, Competitive Prici...                                                                                                                                                           \n",
       "1         Very easy to use and good value for money.                                                                                                                                                           \n",
       "2              Really easy and convenient to arrange                                                                                                                                                           \n",
       "3  It was so easy to select tyre sizes and arrang...                                                                                                                                                           \n",
       "4  service was excellent. Only slight downside wa...                                                                                                                                                           \n",
       "\n",
       "      garage service positive  ease of booking positive  \\\n",
       "0     garage service positive  value for money positive   \n",
       "1    value for money positive                       NaN   \n",
       "2    ease of booking positive                       NaN   \n",
       "3           location positive  value for money positive   \n",
       "4  length of fitting positive  ease of booking positive   \n",
       "\n",
       "                 Unnamed: 3 Unnamed: 4 Unnamed: 5 Unnamed: 6 Unnamed: 7  \\\n",
       "0                       NaN        NaN        NaN        NaN        NaN   \n",
       "1                       NaN        NaN        NaN        NaN        NaN   \n",
       "2                       NaN        NaN        NaN        NaN        NaN   \n",
       "3  ease of booking positive        NaN        NaN        NaN        NaN   \n",
       "4  ease of booking negative        NaN        NaN        NaN        NaN   \n",
       "\n",
       "  Unnamed: 8 Unnamed: 9 Unnamed: 10 Unnamed: 11 Unnamed: 12 Unnamed: 13  \\\n",
       "0        NaN        NaN         NaN         NaN         NaN         NaN   \n",
       "1        NaN        NaN         NaN         NaN         NaN         NaN   \n",
       "2        NaN        NaN         NaN         NaN         NaN         NaN   \n",
       "3        NaN        NaN         NaN         NaN         NaN         NaN   \n",
       "4        NaN        NaN         NaN         NaN         NaN         NaN   \n",
       "\n",
       "  Unnamed: 14  \n",
       "0         NaN  \n",
       "1         NaN  \n",
       "2         NaN  \n",
       "3         NaN  \n",
       "4         NaN  "
      ]
     },
     "execution_count": 20,
     "metadata": {},
     "output_type": "execute_result"
    }
   ],
   "source": [
    "df = pd.read_csv('C:\\\\Users\\\\Sakshi Rathore\\\\Downloads\\\\Evaluation-dataset.csv')\n",
    "df.head()"
   ]
  },
  {
   "cell_type": "code",
   "execution_count": 21,
   "id": "e13c53f5",
   "metadata": {},
   "outputs": [
    {
     "name": "stdout",
     "output_type": "stream",
     "text": [
      "<class 'pandas.core.frame.DataFrame'>\n",
      "RangeIndex: 10131 entries, 0 to 10130\n",
      "Data columns (total 15 columns):\n",
      " #   Column                                                                                                                                                                                                      Non-Null Count  Dtype \n",
      "---  ------                                                                                                                                                                                                      --------------  ----- \n",
      " 0   Tires where delivered to the garage of my choice,the garage notified me when they had been delivered. A day and time was arranged with the garage and I went and had them fitted,a Hassel free experience.  10131 non-null  object\n",
      " 1   garage service positive                                                                                                                                                                                     8128 non-null   object\n",
      " 2   ease of booking positive                                                                                                                                                                                    4238 non-null   object\n",
      " 3   Unnamed: 3                                                                                                                                                                                                  1538 non-null   object\n",
      " 4   Unnamed: 4                                                                                                                                                                                                  445 non-null    object\n",
      " 5   Unnamed: 5                                                                                                                                                                                                  128 non-null    object\n",
      " 6   Unnamed: 6                                                                                                                                                                                                  36 non-null     object\n",
      " 7   Unnamed: 7                                                                                                                                                                                                  13 non-null     object\n",
      " 8   Unnamed: 8                                                                                                                                                                                                  8 non-null      object\n",
      " 9   Unnamed: 9                                                                                                                                                                                                  4 non-null      object\n",
      " 10  Unnamed: 10                                                                                                                                                                                                 1 non-null      object\n",
      " 11  Unnamed: 11                                                                                                                                                                                                 1 non-null      object\n",
      " 12  Unnamed: 12                                                                                                                                                                                                 1 non-null      object\n",
      " 13  Unnamed: 13                                                                                                                                                                                                 1 non-null      object\n",
      " 14  Unnamed: 14                                                                                                                                                                                                 1 non-null      object\n",
      "dtypes: object(15)\n",
      "memory usage: 1.2+ MB\n"
     ]
    }
   ],
   "source": [
    "# datatype info\n",
    "df.info()"
   ]
  },
  {
   "cell_type": "markdown",
   "id": "eb3ed5aa",
   "metadata": {},
   "source": [
    "# Preprocessing the dataset"
   ]
  },
  {
   "cell_type": "code",
   "execution_count": 22,
   "id": "6db37587",
   "metadata": {},
   "outputs": [],
   "source": [
    "# removes pattern in the input text\n",
    "def remove_pattern(input_txt, pattern):\n",
    "    r = re.findall(pattern, input_txt)\n",
    "    for word in r:\n",
    "        input_txt = re.sub(word, \"\", input_txt)\n",
    "    return input_txt"
   ]
  },
  {
   "cell_type": "code",
   "execution_count": 23,
   "id": "24d6600e",
   "metadata": {},
   "outputs": [
    {
     "data": {
      "text/html": [
       "<div>\n",
       "<style scoped>\n",
       "    .dataframe tbody tr th:only-of-type {\n",
       "        vertical-align: middle;\n",
       "    }\n",
       "\n",
       "    .dataframe tbody tr th {\n",
       "        vertical-align: top;\n",
       "    }\n",
       "\n",
       "    .dataframe thead th {\n",
       "        text-align: right;\n",
       "    }\n",
       "</style>\n",
       "<table border=\"1\" class=\"dataframe\">\n",
       "  <thead>\n",
       "    <tr style=\"text-align: right;\">\n",
       "      <th></th>\n",
       "      <th>Tires where delivered to the garage of my choice,the garage notified me when they had been delivered. A day and time was arranged with the garage and I went and had them fitted,a Hassel free experience.</th>\n",
       "      <th>garage service positive</th>\n",
       "      <th>ease of booking positive</th>\n",
       "      <th>Unnamed: 3</th>\n",
       "      <th>Unnamed: 4</th>\n",
       "      <th>Unnamed: 5</th>\n",
       "      <th>Unnamed: 6</th>\n",
       "      <th>Unnamed: 7</th>\n",
       "      <th>Unnamed: 8</th>\n",
       "      <th>Unnamed: 9</th>\n",
       "      <th>Unnamed: 10</th>\n",
       "      <th>Unnamed: 11</th>\n",
       "      <th>Unnamed: 12</th>\n",
       "      <th>Unnamed: 13</th>\n",
       "      <th>Unnamed: 14</th>\n",
       "    </tr>\n",
       "  </thead>\n",
       "  <tbody>\n",
       "    <tr>\n",
       "      <th>0</th>\n",
       "      <td>Easy Tyre Selection Process, Competitive Prici...</td>\n",
       "      <td>garage service positive</td>\n",
       "      <td>value for money positive</td>\n",
       "      <td>NaN</td>\n",
       "      <td>NaN</td>\n",
       "      <td>NaN</td>\n",
       "      <td>NaN</td>\n",
       "      <td>NaN</td>\n",
       "      <td>NaN</td>\n",
       "      <td>NaN</td>\n",
       "      <td>NaN</td>\n",
       "      <td>NaN</td>\n",
       "      <td>NaN</td>\n",
       "      <td>NaN</td>\n",
       "      <td>NaN</td>\n",
       "    </tr>\n",
       "    <tr>\n",
       "      <th>1</th>\n",
       "      <td>Very easy to use and good value for money.</td>\n",
       "      <td>value for money positive</td>\n",
       "      <td>NaN</td>\n",
       "      <td>NaN</td>\n",
       "      <td>NaN</td>\n",
       "      <td>NaN</td>\n",
       "      <td>NaN</td>\n",
       "      <td>NaN</td>\n",
       "      <td>NaN</td>\n",
       "      <td>NaN</td>\n",
       "      <td>NaN</td>\n",
       "      <td>NaN</td>\n",
       "      <td>NaN</td>\n",
       "      <td>NaN</td>\n",
       "      <td>NaN</td>\n",
       "    </tr>\n",
       "    <tr>\n",
       "      <th>2</th>\n",
       "      <td>Really easy and convenient to arrange</td>\n",
       "      <td>ease of booking positive</td>\n",
       "      <td>NaN</td>\n",
       "      <td>NaN</td>\n",
       "      <td>NaN</td>\n",
       "      <td>NaN</td>\n",
       "      <td>NaN</td>\n",
       "      <td>NaN</td>\n",
       "      <td>NaN</td>\n",
       "      <td>NaN</td>\n",
       "      <td>NaN</td>\n",
       "      <td>NaN</td>\n",
       "      <td>NaN</td>\n",
       "      <td>NaN</td>\n",
       "      <td>NaN</td>\n",
       "    </tr>\n",
       "    <tr>\n",
       "      <th>3</th>\n",
       "      <td>It was so easy to select tyre sizes and arrang...</td>\n",
       "      <td>location positive</td>\n",
       "      <td>value for money positive</td>\n",
       "      <td>ease of booking positive</td>\n",
       "      <td>NaN</td>\n",
       "      <td>NaN</td>\n",
       "      <td>NaN</td>\n",
       "      <td>NaN</td>\n",
       "      <td>NaN</td>\n",
       "      <td>NaN</td>\n",
       "      <td>NaN</td>\n",
       "      <td>NaN</td>\n",
       "      <td>NaN</td>\n",
       "      <td>NaN</td>\n",
       "      <td>NaN</td>\n",
       "    </tr>\n",
       "    <tr>\n",
       "      <th>4</th>\n",
       "      <td>service was excellent. Only slight downside wa...</td>\n",
       "      <td>length of fitting positive</td>\n",
       "      <td>ease of booking positive</td>\n",
       "      <td>ease of booking negative</td>\n",
       "      <td>NaN</td>\n",
       "      <td>NaN</td>\n",
       "      <td>NaN</td>\n",
       "      <td>NaN</td>\n",
       "      <td>NaN</td>\n",
       "      <td>NaN</td>\n",
       "      <td>NaN</td>\n",
       "      <td>NaN</td>\n",
       "      <td>NaN</td>\n",
       "      <td>NaN</td>\n",
       "      <td>NaN</td>\n",
       "    </tr>\n",
       "  </tbody>\n",
       "</table>\n",
       "</div>"
      ],
      "text/plain": [
       "  Tires where delivered to the garage of my choice,the garage notified me when they had been delivered. A day and time was arranged with the garage and I went and had them fitted,a Hassel free experience.  \\\n",
       "0  Easy Tyre Selection Process, Competitive Prici...                                                                                                                                                           \n",
       "1         Very easy to use and good value for money.                                                                                                                                                           \n",
       "2              Really easy and convenient to arrange                                                                                                                                                           \n",
       "3  It was so easy to select tyre sizes and arrang...                                                                                                                                                           \n",
       "4  service was excellent. Only slight downside wa...                                                                                                                                                           \n",
       "\n",
       "      garage service positive  ease of booking positive  \\\n",
       "0     garage service positive  value for money positive   \n",
       "1    value for money positive                       NaN   \n",
       "2    ease of booking positive                       NaN   \n",
       "3           location positive  value for money positive   \n",
       "4  length of fitting positive  ease of booking positive   \n",
       "\n",
       "                 Unnamed: 3 Unnamed: 4 Unnamed: 5 Unnamed: 6 Unnamed: 7  \\\n",
       "0                       NaN        NaN        NaN        NaN        NaN   \n",
       "1                       NaN        NaN        NaN        NaN        NaN   \n",
       "2                       NaN        NaN        NaN        NaN        NaN   \n",
       "3  ease of booking positive        NaN        NaN        NaN        NaN   \n",
       "4  ease of booking negative        NaN        NaN        NaN        NaN   \n",
       "\n",
       "  Unnamed: 8 Unnamed: 9 Unnamed: 10 Unnamed: 11 Unnamed: 12 Unnamed: 13  \\\n",
       "0        NaN        NaN         NaN         NaN         NaN         NaN   \n",
       "1        NaN        NaN         NaN         NaN         NaN         NaN   \n",
       "2        NaN        NaN         NaN         NaN         NaN         NaN   \n",
       "3        NaN        NaN         NaN         NaN         NaN         NaN   \n",
       "4        NaN        NaN         NaN         NaN         NaN         NaN   \n",
       "\n",
       "  Unnamed: 14  \n",
       "0         NaN  \n",
       "1         NaN  \n",
       "2         NaN  \n",
       "3         NaN  \n",
       "4         NaN  "
      ]
     },
     "execution_count": 23,
     "metadata": {},
     "output_type": "execute_result"
    }
   ],
   "source": [
    "df.head()"
   ]
  },
  {
   "cell_type": "code",
   "execution_count": 26,
   "id": "fd85b793",
   "metadata": {},
   "outputs": [
    {
     "name": "stderr",
     "output_type": "stream",
     "text": [
      "[nltk_data] Downloading package stopwords to C:\\Users\\Sakshi\n",
      "[nltk_data]     Rathore\\AppData\\Roaming\\nltk_data...\n",
      "[nltk_data]   Package stopwords is already up-to-date!\n",
      "[nltk_data] Downloading package punkt to C:\\Users\\Sakshi\n",
      "[nltk_data]     Rathore\\AppData\\Roaming\\nltk_data...\n",
      "[nltk_data]   Package punkt is already up-to-date!\n"
     ]
    },
    {
     "data": {
      "text/plain": [
       "True"
      ]
     },
     "execution_count": 26,
     "metadata": {},
     "output_type": "execute_result"
    }
   ],
   "source": [
    "# Download NLTK data\n",
    "nltk.download('stopwords')\n",
    "nltk.download('punkt')"
   ]
  },
  {
   "cell_type": "code",
   "execution_count": 27,
   "id": "e12c9752",
   "metadata": {},
   "outputs": [],
   "source": [
    "# Preprocess text function\n",
    "def preprocess_text(text):\n",
    "    text = text.lower()\n",
    "    text = re.sub(r'\\b\\d+\\b', '', text)  # Remove standalone numbers\n",
    "    text = re.sub(r'[^\\w\\s]', '', text)  # Remove punctuation\n",
    "    tokens = word_tokenize(text)\n",
    "    tokens = [word for word in tokens if word not in stopwords.words('english')]\n",
    "    return ' '.join(tokens)"
   ]
  },
  {
   "cell_type": "code",
   "execution_count": 28,
   "id": "12ea8a8c",
   "metadata": {},
   "outputs": [
    {
     "name": "stdout",
     "output_type": "stream",
     "text": [
      "Number of columns: 15\n",
      "First few rows of the dataset:\n",
      "  Tires where delivered to the garage of my choice,the garage notified me when they had been delivered. A day and time was arranged with the garage and I went and had them fitted,a Hassel free experience.  \\\n",
      "0  Easy Tyre Selection Process, Competitive Prici...                                                                                                                                                           \n",
      "1         Very easy to use and good value for money.                                                                                                                                                           \n",
      "2              Really easy and convenient to arrange                                                                                                                                                           \n",
      "3  It was so easy to select tyre sizes and arrang...                                                                                                                                                           \n",
      "4  service was excellent. Only slight downside wa...                                                                                                                                                           \n",
      "\n",
      "      garage service positive  ease of booking positive  \\\n",
      "0     garage service positive  value for money positive   \n",
      "1    value for money positive                       NaN   \n",
      "2    ease of booking positive                       NaN   \n",
      "3           location positive  value for money positive   \n",
      "4  length of fitting positive  ease of booking positive   \n",
      "\n",
      "                 Unnamed: 3 Unnamed: 4 Unnamed: 5 Unnamed: 6 Unnamed: 7  \\\n",
      "0                       NaN        NaN        NaN        NaN        NaN   \n",
      "1                       NaN        NaN        NaN        NaN        NaN   \n",
      "2                       NaN        NaN        NaN        NaN        NaN   \n",
      "3  ease of booking positive        NaN        NaN        NaN        NaN   \n",
      "4  ease of booking negative        NaN        NaN        NaN        NaN   \n",
      "\n",
      "  Unnamed: 8 Unnamed: 9 Unnamed: 10 Unnamed: 11 Unnamed: 12 Unnamed: 13  \\\n",
      "0        NaN        NaN         NaN         NaN         NaN         NaN   \n",
      "1        NaN        NaN         NaN         NaN         NaN         NaN   \n",
      "2        NaN        NaN         NaN         NaN         NaN         NaN   \n",
      "3        NaN        NaN         NaN         NaN         NaN         NaN   \n",
      "4        NaN        NaN         NaN         NaN         NaN         NaN   \n",
      "\n",
      "  Unnamed: 14  \n",
      "0         NaN  \n",
      "1         NaN  \n",
      "2         NaN  \n",
      "3         NaN  \n",
      "4         NaN  \n"
     ]
    }
   ],
   "source": [
    "# Print the number of columns\n",
    "print(f\"Number of columns: {data.shape[1]}\")\n",
    "print(\"First few rows of the dataset:\")\n",
    "print(data.head())"
   ]
  },
  {
   "cell_type": "code",
   "execution_count": 29,
   "id": "70a8c92b",
   "metadata": {},
   "outputs": [],
   "source": [
    "# Based on the structure, assign column names appropriately.\n",
    "# Assuming the first column is 'review', subsequent pairs of columns are 'aspect' and 'sentiment'.\n",
    "num_columns = data.shape[1]\n",
    "column_names = ['review']\n",
    "for i in range(1, num_columns, 2):\n",
    "    column_names.append(f'aspect_{i//2 + 1}')\n",
    "    column_names.append(f'sentiment_{i//2 + 1}')"
   ]
  },
  {
   "cell_type": "code",
   "execution_count": 30,
   "id": "7cdc02cd",
   "metadata": {},
   "outputs": [],
   "source": [
    "# Assign column names\n",
    "data.columns = column_names"
   ]
  },
  {
   "cell_type": "code",
   "execution_count": 31,
   "id": "b52d981e",
   "metadata": {},
   "outputs": [
    {
     "name": "stdout",
     "output_type": "stream",
     "text": [
      "DataFrame with new column names:\n",
      "                                              review  \\\n",
      "0  Easy Tyre Selection Process, Competitive Prici...   \n",
      "1         Very easy to use and good value for money.   \n",
      "2              Really easy and convenient to arrange   \n",
      "3  It was so easy to select tyre sizes and arrang...   \n",
      "4  service was excellent. Only slight downside wa...   \n",
      "\n",
      "                     aspect_1               sentiment_1  \\\n",
      "0     garage service positive  value for money positive   \n",
      "1    value for money positive                       NaN   \n",
      "2    ease of booking positive                       NaN   \n",
      "3           location positive  value for money positive   \n",
      "4  length of fitting positive  ease of booking positive   \n",
      "\n",
      "                   aspect_2 sentiment_2 aspect_3 sentiment_3 aspect_4  \\\n",
      "0                       NaN         NaN      NaN         NaN      NaN   \n",
      "1                       NaN         NaN      NaN         NaN      NaN   \n",
      "2                       NaN         NaN      NaN         NaN      NaN   \n",
      "3  ease of booking positive         NaN      NaN         NaN      NaN   \n",
      "4  ease of booking negative         NaN      NaN         NaN      NaN   \n",
      "\n",
      "  sentiment_4 aspect_5 sentiment_5 aspect_6 sentiment_6 aspect_7 sentiment_7  \n",
      "0         NaN      NaN         NaN      NaN         NaN      NaN         NaN  \n",
      "1         NaN      NaN         NaN      NaN         NaN      NaN         NaN  \n",
      "2         NaN      NaN         NaN      NaN         NaN      NaN         NaN  \n",
      "3         NaN      NaN         NaN      NaN         NaN      NaN         NaN  \n",
      "4         NaN      NaN         NaN      NaN         NaN      NaN         NaN  \n"
     ]
    }
   ],
   "source": [
    "# Print the updated DataFrame with new column names\n",
    "print(\"DataFrame with new column names:\")\n",
    "print(data.head())"
   ]
  },
  {
   "cell_type": "code",
   "execution_count": 32,
   "id": "dcdba41e",
   "metadata": {},
   "outputs": [],
   "source": [
    "# Now, extract and preprocess the 'review' column\n",
    "texts = data['review'].apply(preprocess_text).tolist()"
   ]
  },
  {
   "cell_type": "code",
   "execution_count": 33,
   "id": "cdceb12c",
   "metadata": {},
   "outputs": [],
   "source": [
    "# Prepare a long-form DataFrame for aspect and sentiment pairs\n",
    "aspects, sentiments = [], []\n",
    "for i in range(1, num_columns, 2):\n",
    "    aspects.extend(data[f'aspect_{i//2 + 1}'].dropna().tolist())\n",
    "    sentiments.extend(data[f'sentiment_{i//2 + 1}'].dropna().tolist())"
   ]
  },
  {
   "cell_type": "code",
   "execution_count": 34,
   "id": "6ddeabec",
   "metadata": {},
   "outputs": [],
   "source": [
    "# Assuming we have a method to vectorize texts and classify aspects and sentiments\n",
    "vectorizer = CountVectorizer()\n",
    "X = vectorizer.fit_transform(texts)"
   ]
  },
  {
   "cell_type": "code",
   "execution_count": 40,
   "id": "a9eb2b6d",
   "metadata": {},
   "outputs": [],
   "source": [
    "# Prepare aspect and sentiment labels\n",
    "aspects = data.filter(like='aspect').values.flatten()\n",
    "sentiments = data.filter(like='sentiment').values.flatten()"
   ]
  },
  {
   "cell_type": "code",
   "execution_count": 44,
   "id": "b6d8dae3",
   "metadata": {},
   "outputs": [],
   "source": [
    "# Prepare aspect labels\n",
    "aspects = data.filter(like='aspect').values.flatten()"
   ]
  },
  {
   "cell_type": "code",
   "execution_count": 46,
   "id": "e21f5bdb",
   "metadata": {},
   "outputs": [
    {
     "name": "stdout",
     "output_type": "stream",
     "text": [
      "Number of missing values in aspects: 61104\n"
     ]
    }
   ],
   "source": [
    "print(\"Number of missing values in aspects:\", pd.Series(aspects).isnull().sum())"
   ]
  },
  {
   "cell_type": "code",
   "execution_count": 54,
   "id": "a7fad767",
   "metadata": {},
   "outputs": [
    {
     "name": "stdout",
     "output_type": "stream",
     "text": [
      "Sample aspects: ['garage service positive' nan nan nan nan]\n"
     ]
    }
   ],
   "source": [
    "print(\"Sample aspects:\", aspects[:5])"
   ]
  },
  {
   "cell_type": "code",
   "execution_count": 57,
   "id": "d0a54fa3",
   "metadata": {},
   "outputs": [],
   "source": [
    "from sklearn.linear_model import LogisticRegression\n",
    "from sklearn.metrics import f1_score, accuracy_score"
   ]
  },
  {
   "cell_type": "code",
   "execution_count": null,
   "id": "0300762f",
   "metadata": {},
   "outputs": [],
   "source": []
  },
  {
   "cell_type": "code",
   "execution_count": 59,
   "id": "90dbb900",
   "metadata": {},
   "outputs": [],
   "source": [
    "# Define the prediction function\n",
    "def predict_subthemes(text):\n",
    "    processed_text = preprocess_text(text)\n",
    "    vectorized_text = vectorizer.transform([processed_text])\n",
    "    \n",
    "    predicted_aspect = aspect_model.predict(vectorized_text)[0]\n",
    "    predicted_sentiment = sentiment_model.predict(vectorized_text)[0]\n",
    "    \n",
    "    return predicted_aspect, predicted_sentiment"
   ]
  },
  {
   "cell_type": "code",
   "execution_count": 63,
   "id": "097fae34",
   "metadata": {},
   "outputs": [
    {
     "name": "stdout",
     "output_type": "stream",
     "text": [
      "Shape of X after vectorization: (10131, 7884)\n",
      "Sample aspects: ['garage service positive' 'location positive'\n",
      " 'length of fitting positive' 'garage service positive'\n",
      " 'value for money positive']\n",
      "Sample sentiments: ['value for money positive' 'value for money positive'\n",
      " 'ease of booking positive' 'value for money positive' 'location positive']\n",
      "Shape of X: (10131, 7884)\n",
      "Number of elements in aspects array: (4729,)\n",
      "Number of elements in sentiments array: (4729,)\n"
     ]
    },
    {
     "ename": "ValueError",
     "evalue": "Found input variables with inconsistent numbers of samples: [10131, 4729]",
     "output_type": "error",
     "traceback": [
      "\u001b[1;31m---------------------------------------------------------------------------\u001b[0m",
      "\u001b[1;31mValueError\u001b[0m                                Traceback (most recent call last)",
      "Cell \u001b[1;32mIn[63], line 31\u001b[0m\n\u001b[0;32m     28\u001b[0m \u001b[38;5;28mprint\u001b[39m(\u001b[38;5;124m\"\u001b[39m\u001b[38;5;124mNumber of elements in sentiments array:\u001b[39m\u001b[38;5;124m\"\u001b[39m, sentiments\u001b[38;5;241m.\u001b[39mshape)\n\u001b[0;32m     30\u001b[0m \u001b[38;5;66;03m# Aspect Classification\u001b[39;00m\n\u001b[1;32m---> 31\u001b[0m X_train_aspect, X_test_aspect, y_train_aspect, y_test_aspect \u001b[38;5;241m=\u001b[39m train_test_split(X, aspects, test_size\u001b[38;5;241m=\u001b[39m\u001b[38;5;241m0.2\u001b[39m, random_state\u001b[38;5;241m=\u001b[39m\u001b[38;5;241m42\u001b[39m)\n\u001b[0;32m     32\u001b[0m aspect_model \u001b[38;5;241m=\u001b[39m MultinomialNB()\n\u001b[0;32m     33\u001b[0m aspect_model\u001b[38;5;241m.\u001b[39mfit(X_train_aspect, y_train_aspect)\n",
      "File \u001b[1;32mC:\\DS_Softwares\\Anaconda\\Lib\\site-packages\\sklearn\\utils\\_param_validation.py:214\u001b[0m, in \u001b[0;36mvalidate_params.<locals>.decorator.<locals>.wrapper\u001b[1;34m(*args, **kwargs)\u001b[0m\n\u001b[0;32m    208\u001b[0m \u001b[38;5;28;01mtry\u001b[39;00m:\n\u001b[0;32m    209\u001b[0m     \u001b[38;5;28;01mwith\u001b[39;00m config_context(\n\u001b[0;32m    210\u001b[0m         skip_parameter_validation\u001b[38;5;241m=\u001b[39m(\n\u001b[0;32m    211\u001b[0m             prefer_skip_nested_validation \u001b[38;5;129;01mor\u001b[39;00m global_skip_validation\n\u001b[0;32m    212\u001b[0m         )\n\u001b[0;32m    213\u001b[0m     ):\n\u001b[1;32m--> 214\u001b[0m         \u001b[38;5;28;01mreturn\u001b[39;00m func(\u001b[38;5;241m*\u001b[39margs, \u001b[38;5;241m*\u001b[39m\u001b[38;5;241m*\u001b[39mkwargs)\n\u001b[0;32m    215\u001b[0m \u001b[38;5;28;01mexcept\u001b[39;00m InvalidParameterError \u001b[38;5;28;01mas\u001b[39;00m e:\n\u001b[0;32m    216\u001b[0m     \u001b[38;5;66;03m# When the function is just a wrapper around an estimator, we allow\u001b[39;00m\n\u001b[0;32m    217\u001b[0m     \u001b[38;5;66;03m# the function to delegate validation to the estimator, but we replace\u001b[39;00m\n\u001b[0;32m    218\u001b[0m     \u001b[38;5;66;03m# the name of the estimator by the name of the function in the error\u001b[39;00m\n\u001b[0;32m    219\u001b[0m     \u001b[38;5;66;03m# message to avoid confusion.\u001b[39;00m\n\u001b[0;32m    220\u001b[0m     msg \u001b[38;5;241m=\u001b[39m re\u001b[38;5;241m.\u001b[39msub(\n\u001b[0;32m    221\u001b[0m         \u001b[38;5;124mr\u001b[39m\u001b[38;5;124m\"\u001b[39m\u001b[38;5;124mparameter of \u001b[39m\u001b[38;5;124m\\\u001b[39m\u001b[38;5;124mw+ must be\u001b[39m\u001b[38;5;124m\"\u001b[39m,\n\u001b[0;32m    222\u001b[0m         \u001b[38;5;124mf\u001b[39m\u001b[38;5;124m\"\u001b[39m\u001b[38;5;124mparameter of \u001b[39m\u001b[38;5;132;01m{\u001b[39;00mfunc\u001b[38;5;241m.\u001b[39m\u001b[38;5;18m__qualname__\u001b[39m\u001b[38;5;132;01m}\u001b[39;00m\u001b[38;5;124m must be\u001b[39m\u001b[38;5;124m\"\u001b[39m,\n\u001b[0;32m    223\u001b[0m         \u001b[38;5;28mstr\u001b[39m(e),\n\u001b[0;32m    224\u001b[0m     )\n",
      "File \u001b[1;32mC:\\DS_Softwares\\Anaconda\\Lib\\site-packages\\sklearn\\model_selection\\_split.py:2646\u001b[0m, in \u001b[0;36mtrain_test_split\u001b[1;34m(test_size, train_size, random_state, shuffle, stratify, *arrays)\u001b[0m\n\u001b[0;32m   2643\u001b[0m \u001b[38;5;28;01mif\u001b[39;00m n_arrays \u001b[38;5;241m==\u001b[39m \u001b[38;5;241m0\u001b[39m:\n\u001b[0;32m   2644\u001b[0m     \u001b[38;5;28;01mraise\u001b[39;00m \u001b[38;5;167;01mValueError\u001b[39;00m(\u001b[38;5;124m\"\u001b[39m\u001b[38;5;124mAt least one array required as input\u001b[39m\u001b[38;5;124m\"\u001b[39m)\n\u001b[1;32m-> 2646\u001b[0m arrays \u001b[38;5;241m=\u001b[39m indexable(\u001b[38;5;241m*\u001b[39marrays)\n\u001b[0;32m   2648\u001b[0m n_samples \u001b[38;5;241m=\u001b[39m _num_samples(arrays[\u001b[38;5;241m0\u001b[39m])\n\u001b[0;32m   2649\u001b[0m n_train, n_test \u001b[38;5;241m=\u001b[39m _validate_shuffle_split(\n\u001b[0;32m   2650\u001b[0m     n_samples, test_size, train_size, default_test_size\u001b[38;5;241m=\u001b[39m\u001b[38;5;241m0.25\u001b[39m\n\u001b[0;32m   2651\u001b[0m )\n",
      "File \u001b[1;32mC:\\DS_Softwares\\Anaconda\\Lib\\site-packages\\sklearn\\utils\\validation.py:453\u001b[0m, in \u001b[0;36mindexable\u001b[1;34m(*iterables)\u001b[0m\n\u001b[0;32m    434\u001b[0m \u001b[38;5;250m\u001b[39m\u001b[38;5;124;03m\"\"\"Make arrays indexable for cross-validation.\u001b[39;00m\n\u001b[0;32m    435\u001b[0m \n\u001b[0;32m    436\u001b[0m \u001b[38;5;124;03mChecks consistent length, passes through None, and ensures that everything\u001b[39;00m\n\u001b[1;32m   (...)\u001b[0m\n\u001b[0;32m    449\u001b[0m \u001b[38;5;124;03m    sparse matrix, or dataframe) or `None`.\u001b[39;00m\n\u001b[0;32m    450\u001b[0m \u001b[38;5;124;03m\"\"\"\u001b[39;00m\n\u001b[0;32m    452\u001b[0m result \u001b[38;5;241m=\u001b[39m [_make_indexable(X) \u001b[38;5;28;01mfor\u001b[39;00m X \u001b[38;5;129;01min\u001b[39;00m iterables]\n\u001b[1;32m--> 453\u001b[0m check_consistent_length(\u001b[38;5;241m*\u001b[39mresult)\n\u001b[0;32m    454\u001b[0m \u001b[38;5;28;01mreturn\u001b[39;00m result\n",
      "File \u001b[1;32mC:\\DS_Softwares\\Anaconda\\Lib\\site-packages\\sklearn\\utils\\validation.py:407\u001b[0m, in \u001b[0;36mcheck_consistent_length\u001b[1;34m(*arrays)\u001b[0m\n\u001b[0;32m    405\u001b[0m uniques \u001b[38;5;241m=\u001b[39m np\u001b[38;5;241m.\u001b[39munique(lengths)\n\u001b[0;32m    406\u001b[0m \u001b[38;5;28;01mif\u001b[39;00m \u001b[38;5;28mlen\u001b[39m(uniques) \u001b[38;5;241m>\u001b[39m \u001b[38;5;241m1\u001b[39m:\n\u001b[1;32m--> 407\u001b[0m     \u001b[38;5;28;01mraise\u001b[39;00m \u001b[38;5;167;01mValueError\u001b[39;00m(\n\u001b[0;32m    408\u001b[0m         \u001b[38;5;124m\"\u001b[39m\u001b[38;5;124mFound input variables with inconsistent numbers of samples: \u001b[39m\u001b[38;5;132;01m%r\u001b[39;00m\u001b[38;5;124m\"\u001b[39m\n\u001b[0;32m    409\u001b[0m         \u001b[38;5;241m%\u001b[39m [\u001b[38;5;28mint\u001b[39m(l) \u001b[38;5;28;01mfor\u001b[39;00m l \u001b[38;5;129;01min\u001b[39;00m lengths]\n\u001b[0;32m    410\u001b[0m     )\n",
      "\u001b[1;31mValueError\u001b[0m: Found input variables with inconsistent numbers of samples: [10131, 4729]"
     ]
    }
   ],
   "source": [
    "# Debug print for X\n",
    "print(\"Shape of X after vectorization:\", X.shape)\n",
    "\n",
    "# Prepare aspect and sentiment labels ensuring alignment\n",
    "aspects = []\n",
    "sentiments = []\n",
    "\n",
    "for i in range(data.shape[0]):\n",
    "    for j in range(1, num_columns, 2):\n",
    "        aspect = data.iloc[i, j]\n",
    "        sentiment = data.iloc[i, j + 1]\n",
    "        if pd.notna(aspect) and pd.notna(sentiment):\n",
    "            aspects.append(aspect)\n",
    "            sentiments.append(sentiment)\n",
    "\n",
    "# Convert aspects and sentiments to numpy arrays\n",
    "import numpy as np\n",
    "aspects = np.array(aspects)\n",
    "sentiments = np.array(sentiments)\n",
    "\n",
    "# Debug print for aspects and sentiments\n",
    "print(\"Sample aspects:\", aspects[:5])\n",
    "print(\"Sample sentiments:\", sentiments[:5])\n",
    "\n",
    "# Ensure X, aspects, and sentiments have the correct shapes\n",
    "print(\"Shape of X:\", X.shape)\n",
    "print(\"Number of elements in aspects array:\", aspects.shape)\n",
    "print(\"Number of elements in sentiments array:\", sentiments.shape)\n",
    "\n",
    "# Aspect Classification\n",
    "X_train_aspect, X_test_aspect, y_train_aspect, y_test_aspect = train_test_split(X, aspects, test_size=0.2, random_state=42)\n",
    "aspect_model = MultinomialNB()\n",
    "aspect_model.fit(X_train_aspect, y_train_aspect)\n",
    "\n",
    "# Sentiment Classification\n",
    "X_train_sentiment, X_test_sentiment, y_train_sentiment, y_test_sentiment = train_test_split(X, sentiments, test_size=0.2, random_state=42)\n",
    "sentiment_model = MultinomialNB()\n",
    "sentiment_model.fit(X_train_sentiment, y_train_sentiment)\n",
    "\n",
    "# Define the prediction function\n",
    "def predict_subthemes(text):\n",
    "    processed_text = preprocess_text(text)\n",
    "    vectorized_text = vectorizer.transform([processed_text])\n",
    "    \n",
    "    predicted_aspect = aspect_model.predict(vectorized_text)[0]\n",
    "    predicted_sentiment = sentiment_model.predict(vectorized_text)[0]\n",
    "    \n",
    "    return predicted_aspect, predicted_sentiment\n",
    "\n",
    "# Example review for prediction\n",
    "sample_review = \"One tyre went missing, so there was a delay to get the two tyres fitted. The way garage dealt with it was fantastic.\"\n",
    "sentences = sent_tokenize(sample_review)\n",
    "\n",
    "for sentence in sentences:\n",
    "    aspect, sentiment = predict_subthemes(sentence)\n",
    "    print(f\"Sentence: {sentence}\")\n",
    "    print(f\"Aspect: {aspect}, Sentiment: {sentiment}\")\n"
   ]
  },
  {
   "cell_type": "code",
   "execution_count": null,
   "id": "a746fe71",
   "metadata": {},
   "outputs": [],
   "source": []
  }
 ],
 "metadata": {
  "kernelspec": {
   "display_name": "Python 3 (ipykernel)",
   "language": "python",
   "name": "python3"
  },
  "language_info": {
   "codemirror_mode": {
    "name": "ipython",
    "version": 3
   },
   "file_extension": ".py",
   "mimetype": "text/x-python",
   "name": "python",
   "nbconvert_exporter": "python",
   "pygments_lexer": "ipython3",
   "version": "3.11.5"
  }
 },
 "nbformat": 4,
 "nbformat_minor": 5
}
