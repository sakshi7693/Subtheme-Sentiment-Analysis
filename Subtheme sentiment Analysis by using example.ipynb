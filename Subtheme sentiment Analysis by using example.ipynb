{
 "cells": [
  {
   "cell_type": "code",
   "execution_count": 4,
   "id": "8e517dee",
   "metadata": {},
   "outputs": [
    {
     "name": "stderr",
     "output_type": "stream",
     "text": [
      "C:\\DS_Softwares\\Anaconda\\Lib\\site-packages\\tqdm\\auto.py:21: TqdmWarning: IProgress not found. Please update jupyter and ipywidgets. See https://ipywidgets.readthedocs.io/en/stable/user_install.html\n",
      "  from .autonotebook import tqdm as notebook_tqdm\n"
     ]
    }
   ],
   "source": [
    "import spacy\n",
    "import torch\n",
    "from transformers import BertForSequenceClassification, BertTokenizer\n",
    "from sklearn.model_selection import train_test_split"
   ]
  },
  {
   "cell_type": "code",
   "execution_count": 5,
   "id": "549fce65",
   "metadata": {},
   "outputs": [],
   "source": [
    "# Load SpaCy model for preprocessing\n",
    "nlp = spacy.load(\"en_core_web_sm\")"
   ]
  },
  {
   "cell_type": "code",
   "execution_count": 6,
   "id": "9695a98a",
   "metadata": {},
   "outputs": [
    {
     "name": "stderr",
     "output_type": "stream",
     "text": [
      "tokenizer_config.json: 100%|████████████████████████████████████████████████████████████████| 48.0/48.0 [00:00<?, ?B/s]\n",
      "C:\\DS_Softwares\\Anaconda\\Lib\\site-packages\\huggingface_hub\\file_download.py:149: UserWarning: `huggingface_hub` cache-system uses symlinks by default to efficiently store duplicated files but your machine does not support them in C:\\Users\\Sakshi Rathore\\.cache\\huggingface\\hub\\models--bert-base-uncased. Caching files will still work but in a degraded version that might require more space on your disk. This warning can be disabled by setting the `HF_HUB_DISABLE_SYMLINKS_WARNING` environment variable. For more details, see https://huggingface.co/docs/huggingface_hub/how-to-cache#limitations.\n",
      "To support symlinks on Windows, you either need to activate Developer Mode or to run Python as an administrator. In order to see activate developer mode, see this article: https://docs.microsoft.com/en-us/windows/apps/get-started/enable-your-device-for-development\n",
      "  warnings.warn(message)\n",
      "vocab.txt: 100%|█████████████████████████████████████████████████████████████████████| 232k/232k [00:00<00:00, 373kB/s]\n",
      "tokenizer.json: 100%|████████████████████████████████████████████████████████████████| 466k/466k [00:00<00:00, 749kB/s]\n",
      "config.json: 100%|████████████████████████████████████████████████████████████████████████████| 570/570 [00:00<?, ?B/s]\n",
      "model.safetensors: 100%|████████████████████████████████████████████████████████████| 440M/440M [00:14<00:00, 30.7MB/s]\n",
      "Some weights of BertForSequenceClassification were not initialized from the model checkpoint at bert-base-uncased and are newly initialized: ['classifier.weight', 'classifier.bias']\n",
      "You should probably TRAIN this model on a down-stream task to be able to use it for predictions and inference.\n",
      "Some weights of BertForSequenceClassification were not initialized from the model checkpoint at bert-base-uncased and are newly initialized: ['classifier.weight', 'classifier.bias']\n",
      "You should probably TRAIN this model on a down-stream task to be able to use it for predictions and inference.\n"
     ]
    }
   ],
   "source": [
    "# Load BERT model and tokenizer for aspect extraction and sentiment analysis\n",
    "tokenizer = BertTokenizer.from_pretrained('bert-base-uncased')\n",
    "aspect_model = BertForSequenceClassification.from_pretrained('bert-base-uncased', num_labels=2)\n",
    "sentiment_model = BertForSequenceClassification.from_pretrained('bert-base-uncased', num_labels=2)"
   ]
  },
  {
   "cell_type": "code",
   "execution_count": 7,
   "id": "1adb425c",
   "metadata": {},
   "outputs": [],
   "source": [
    "# Function to preprocess text\n",
    "def preprocess(text):\n",
    "    doc = nlp(text.lower())\n",
    "    tokens = [token.lemma_ for token in doc if not token.is_stop]\n",
    "    return \" \".join(tokens)"
   ]
  },
  {
   "cell_type": "code",
   "execution_count": 8,
   "id": "dae9c823",
   "metadata": {},
   "outputs": [],
   "source": [
    "# Function to extract aspects/problems using BERT\n",
    "def extract_aspects(text):\n",
    "    inputs = tokenizer(text, return_tensors='pt', truncation=True, padding=True)\n",
    "    outputs = aspect_model(**inputs)\n",
    "    logits = outputs.logits\n",
    "    aspect_labels = torch.argmax(logits, dim=1)\n",
    "    return aspect_labels"
   ]
  },
  {
   "cell_type": "code",
   "execution_count": 9,
   "id": "0dbd9dee",
   "metadata": {},
   "outputs": [],
   "source": [
    "# Function to perform sentiment analysis using BERT\n",
    "def analyze_sentiment(text):\n",
    "    inputs = tokenizer(text, return_tensors='pt', truncation=True, padding=True)\n",
    "    outputs = sentiment_model(**inputs)\n",
    "    logits = outputs.logits\n",
    "    sentiment_labels = torch.argmax(logits, dim=1)\n",
    "    return sentiment_labels"
   ]
  },
  {
   "cell_type": "code",
   "execution_count": 10,
   "id": "836419b6",
   "metadata": {},
   "outputs": [],
   "source": [
    "# Example review\n",
    "review = \"One tyre went missing, so there was a delay to get the two tyres fitted. The way garage dealt with it was fantastic.\""
   ]
  },
  {
   "cell_type": "code",
   "execution_count": 11,
   "id": "b77ab5ac",
   "metadata": {},
   "outputs": [],
   "source": [
    "# Preprocess review\n",
    "cleaned_review = preprocess(review)"
   ]
  },
  {
   "cell_type": "code",
   "execution_count": 12,
   "id": "c231f821",
   "metadata": {},
   "outputs": [],
   "source": [
    "# Extract aspects/problems\n",
    "aspects = extract_aspects(cleaned_review)"
   ]
  },
  {
   "cell_type": "code",
   "execution_count": 13,
   "id": "a5aa871e",
   "metadata": {},
   "outputs": [],
   "source": [
    "# Analyze sentiment\n",
    "sentiments = analyze_sentiment(cleaned_review)"
   ]
  },
  {
   "cell_type": "code",
   "execution_count": 14,
   "id": "4730bb0b",
   "metadata": {},
   "outputs": [
    {
     "name": "stdout",
     "output_type": "stream",
     "text": [
      "[(tensor(1), tensor(0))]\n"
     ]
    }
   ],
   "source": [
    "# Combine results\n",
    "results = list(zip(aspects, sentiments))\n",
    "print(results)"
   ]
  },
  {
   "cell_type": "code",
   "execution_count": null,
   "id": "45888638",
   "metadata": {},
   "outputs": [],
   "source": []
  }
 ],
 "metadata": {
  "kernelspec": {
   "display_name": "Python 3 (ipykernel)",
   "language": "python",
   "name": "python3"
  },
  "language_info": {
   "codemirror_mode": {
    "name": "ipython",
    "version": 3
   },
   "file_extension": ".py",
   "mimetype": "text/x-python",
   "name": "python",
   "nbconvert_exporter": "python",
   "pygments_lexer": "ipython3",
   "version": "3.11.5"
  }
 },
 "nbformat": 4,
 "nbformat_minor": 5
}
